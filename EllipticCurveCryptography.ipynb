{
  "nbformat": 4,
  "nbformat_minor": 0,
  "metadata": {
    "colab": {
      "provenance": []
    },
    "kernelspec": {
      "name": "python3",
      "display_name": "Python 3"
    },
    "language_info": {
      "name": "python"
    }
  },
  "cells": [
    {
      "cell_type": "markdown",
      "source": [
        "#### Elliptic Curve\n"
      ],
      "metadata": {
        "id": "ZNtnoJY-E9re"
      }
    },
    {
      "cell_type": "markdown",
      "source": [
        "An elliptic curve is a smooth, projective, algebraic curve of genus one with a specified point $ \\mathcal{O} $ (called the point at infinity), defined over a field $ \\mathbb{K} $. The general equation of an elliptic curve over a field $ \\mathbb{K} $ is given by:\n",
        "\n",
        "$$\n",
        "y^2 = x^3 + ax + b\n",
        "$$\n",
        "\n",
        "where $ a, b \\in \\mathbb{K} $ and the curve must satisfy the non-singularity condition, which means its discriminant $ \\Delta $ must be non-zero:\n",
        "\n",
        "$$\n",
        "\\Delta = 4a^3 + 27b^2 \\neq 0\n",
        "$$\n",
        "\n",
        "This equation defines the set of points $ (x, y) $ on the elliptic curve, along with the point at infinity $ \\mathcal{O} $, which serves as the identity element in the elliptic curve's group structure.\n",
        "\n",
        "#### Elliptic Curve over Finite Fields\n",
        "\n",
        "For cryptographic purposes, elliptic curves are typically defined over finite fields $ \\mathbb{F}_p $, where $ p $ is a prime number. An elliptic curve over a finite field $ \\mathbb{F}_p $ is represented as:\n",
        "\n",
        "$$\n",
        "E(\\mathbb{F}_p) = \\{(x, y) \\in \\mathbb{F}_p^2 \\mid y^2 = x^3 + ax + b\\} \\cup \\{\\mathcal{O}\\}\n",
        "$$\n",
        "\n",
        "The set of points $ E(\\mathbb{F}_p) $ is finite, and the number of points on such a curve is approximated by $ p + 1 $, with more precise bounds provided by the Hasse theorem.\n",
        "\n",
        "## Class Overview: `EllipticCurve`\n",
        "\n",
        "The `EllipticCurve` class includes methods for performing key operations on elliptic curves over finite fields:\n",
        "\n",
        "1. **Point Verification**:\n",
        "   - The method `is_point_on_curve(x, y)` checks whether a point $ (x, y) $ lies on the elliptic curve.\n",
        "\n",
        "2. **Point Addition**:\n",
        "   - The method `point_addition(P, Q)` implements the elliptic curve addition law, allowing for the addition of two points $ P $ and $ Q $ on the curve. This method handles:\n",
        "     - The identity point (point at infinity).\n",
        "     - The addition of distinct points.\n",
        "     - The doubling of a point.\n",
        "\n",
        "3. **Point Multiplication**:\n",
        "   - The method `point_multiply(n, P)` uses the Double and Add algorithm to compute the scalar multiplication of a point $ P $ by an integer $ n $.\n",
        "\n",
        "With these methods, you can perform essential operations on elliptic curves, which are fundamental in cryptography and number theory.\n"
      ],
      "metadata": {
        "id": "JEEfizGYKjYT"
      }
    },
    {
      "cell_type": "code",
      "source": [
        "class EllipticCurve:\n",
        "    def __init__(self, p, a, b):\n",
        "        self.p = p\n",
        "        self.a = a\n",
        "        self.b = b\n",
        "\n",
        "    def is_point_on_curve(self, x, y):\n",
        "        return (y**2 - x**3 - self.a*x - self.b) % self.p == 0\n",
        "\n",
        "    def point_addition(self, P, Q):\n",
        "        if P is None:\n",
        "            return Q\n",
        "        if Q is None:\n",
        "            return P\n",
        "        if P[0] == Q[0] and P[1] != Q[1]:\n",
        "            return None\n",
        "        if P != Q:\n",
        "            lam = (Q[1] - P[1]) * pow(Q[0] - P[0], -1, self.p) % self.p\n",
        "        else:\n",
        "            lam = (3 * P[0]**2 + self.a) * pow(2 * P[1], -1, self.p) % self.p\n",
        "        x3 = (lam**2 - P[0] - Q[0]) % self.p\n",
        "        y3 = (lam * (P[0] - x3) - P[1]) % self.p\n",
        "        return (x3, y3)\n",
        "\n",
        "    def point_multiply(self, n, P):             # Double and Add Algorithm\n",
        "        Q = P                                   # Set Q = P and R = O.\n",
        "        R = None\n",
        "        while n > 0:\n",
        "            if n % 2 == 1:                      # If n ≡ 1 (mod 2), set R = R + Q.\n",
        "                R = self.point_addition(R, Q)\n",
        "            Q = self.point_addition(Q, Q)\n",
        "            n //= 2                             # Set Q = 2Q and n = \u000en/2\u000f.\n",
        "        return R"
      ],
      "metadata": {
        "id": "fKL-PQLb-I2o"
      },
      "execution_count": 1,
      "outputs": []
    },
    {
      "cell_type": "markdown",
      "source": [
        "### Addition of Point of an Elliptic Curve over $ F_P $"
      ],
      "metadata": {
        "id": "QHGiuffHDz6Q"
      }
    },
    {
      "cell_type": "markdown",
      "source": [
        "# Addition of Points on an Elliptic Curve over $ \\mathbb{F}_p $\n",
        "\n",
        "Let $ E $ be an elliptic curve. Then the addition law on $ E $ has the following properties:\n",
        "\n",
        "1. **Identity**: $ P + \\mathcal{O} = \\mathcal{O} + P = P $ for all $ P \\in E $.\n",
        "2. **Inverse**: $ P + (-P) = \\mathcal{O} $ for all $ P \\in E $.\n",
        "3. **Associative**: $ (P + Q) + R = P + (Q + R) $ for all $ P, Q, R \\in E $.\n",
        "4. **Commutative**: $ P + Q = Q + P $ for all $ P, Q \\in E $.\n",
        "\n",
        "In other words, the addition law makes the points of $ E $ into an abelian group.\n",
        "\n",
        "## The Elliptic Curve Addition Algorithm\n",
        "\n",
        "The algorithm describes how to add two points on an elliptic curve $ E $ given by the equation $ E: y^2 = x^3 + Ax + B $.\n",
        "\n",
        "1. **Identity Points**:\n",
        "   - If $ P_1 = \\mathcal{O} $ (the point at infinity), then $ P_1 + P_2 = P_2 $.\n",
        "   - If $ P_2 = \\mathcal{O} $, then $ P_1 + P_2 = P_1 $.\n",
        "\n",
        "2. **Opposite Points**:\n",
        "   - For points $ P_1 = (x_1, y_1) $ and $ P_2 = (x_2, y_2) $:\n",
        "     - If $ x_1 = x_2 $ and $ y_1 = -y_2 $, then $ P_1 + P_2 = \\mathcal{O} $.\n",
        "\n",
        "3. **Otherwise**:\n",
        "   - For two distinct points $ P = (x_1, y_1) $ and $ Q = (x_2, y_2) $, the sum $ R = P + Q = (x_3, y_3) $ is defined as follows:\n",
        "     - Calculate the $ \\lambda $, where $ \\lambda $ is the slope of the line through $ P $ and $ Q $:\n",
        "     $$\n",
        "     \\lambda =\n",
        "     \\begin{cases}\n",
        "     \\frac{y_2 - y_1}{x_2 - x_1} & \\text{if } P_1 \\neq P_2, \\\\\n",
        "     \\frac{3x_1^2 + A}{2y_1} & \\text{if } P_1 = P_2.\n",
        "     \\end{cases}\n",
        "     $$\n",
        "\n",
        "     - Compute the coordinates of $ P_3 = P_1 + P_2 = (x_3, y_3) $:\n",
        "     $$\n",
        "     x_3 = \\lambda^2 - x_1 - x_2,\n",
        "     $$\n",
        "     $$\n",
        "     y_3 = \\lambda(x_1 - x_3) - y_1.\n",
        "     $$\n"
      ],
      "metadata": {
        "id": "hRmyvL-lJl2m"
      }
    },
    {
      "cell_type": "code",
      "source": [
        "def point_addition(p1, p2, prime, a):\n",
        "    x1, y1 = p1\n",
        "    x2, y2 = p2\n",
        "\n",
        "    if p1 == (None, None):\n",
        "        return p2\n",
        "    if p2 == (None, None):\n",
        "        return p1\n",
        "\n",
        "    if p1 != p2:\n",
        "        denominator = (x2 - x1) % prime\n",
        "        if denominator == 0:\n",
        "            return (None, None)\n",
        "        slope = ((y2 - y1) * pow(denominator, -1, prime)) % prime\n",
        "    else:\n",
        "        denominator = (2 * y1) % prime\n",
        "        if denominator == 0:\n",
        "            return (None, None)\n",
        "        slope = ((3 * x1 * x1 + a) * pow(denominator, -1, prime)) % prime\n",
        "\n",
        "\n",
        "    x3 = (slope * slope - x1 - x2) % prime\n",
        "    y3 = (slope * (x1 - x3) - y1) % prime\n",
        "\n",
        "    return x3, y3\n",
        "\n",
        "def generate_points(prime, a, b):\n",
        "    points = [(None, None)]\n",
        "    for x in range(prime):\n",
        "        for y in range(prime):\n",
        "            if (y*y - (x*x*x + a*x + b)) % prime == 0:\n",
        "                points.append((x, y))\n",
        "    return points\n",
        "\n",
        "def generate_addition_table(prime, a, b):\n",
        "    points = generate_points(prime, a, b)\n",
        "    table = [['EC'] + [f'({x},{y})' for x, y in points]]\n",
        "    for p1 in points:\n",
        "        row = [f'({p1[0]},{p1[1]})']\n",
        "        for p2 in points:\n",
        "            result = point_addition(p1, p2, prime, a)\n",
        "            row.append(f'({result[0]},{result[1]})')\n",
        "        table.append(row)\n",
        "    return table\n",
        "\n",
        "\n",
        "prime = 17\n",
        "a = -15\n",
        "b = 18\n",
        "\n",
        "#table\n",
        "addition_table = generate_addition_table(prime, a, b)\n",
        "for row in addition_table:\n",
        "    print(\"\\t\".join(row))"
      ],
      "metadata": {
        "colab": {
          "base_uri": "https://localhost:8080/"
        },
        "id": "HN_SUayZDY3C",
        "outputId": "39dcae24-ed6e-4605-eefa-d4687dc9f481"
      },
      "execution_count": 6,
      "outputs": [
        {
          "output_type": "stream",
          "name": "stdout",
          "text": [
            "EC\t(None,None)\t(0,1)\t(0,16)\t(1,2)\t(1,15)\t(2,8)\t(2,9)\t(3,0)\t(5,0)\t(6,5)\t(6,12)\t(7,1)\t(7,16)\t(8,6)\t(8,11)\t(9,0)\t(10,1)\t(10,16)\t(12,6)\t(12,11)\t(14,6)\t(14,11)\t(16,7)\t(16,10)\n",
            "(None,None)\t(None,None)\t(0,1)\t(0,16)\t(1,2)\t(1,15)\t(2,8)\t(2,9)\t(3,0)\t(5,0)\t(6,5)\t(6,12)\t(7,1)\t(7,16)\t(8,6)\t(8,11)\t(9,0)\t(10,1)\t(10,16)\t(12,6)\t(12,11)\t(14,6)\t(14,11)\t(16,7)\t(16,10)\n",
            "(0,1)\t(0,1)\t(1,15)\t(None,None)\t(0,16)\t(8,6)\t(6,12)\t(14,11)\t(16,10)\t(10,1)\t(2,9)\t(12,11)\t(10,16)\t(8,11)\t(7,1)\t(1,2)\t(12,6)\t(7,16)\t(5,0)\t(6,5)\t(9,0)\t(2,8)\t(16,7)\t(3,0)\t(14,6)\n",
            "(0,16)\t(0,16)\t(None,None)\t(1,2)\t(8,11)\t(0,1)\t(14,6)\t(6,5)\t(16,7)\t(10,16)\t(12,6)\t(2,8)\t(8,6)\t(10,1)\t(1,15)\t(7,16)\t(12,11)\t(5,0)\t(7,1)\t(9,0)\t(6,12)\t(16,10)\t(2,9)\t(14,11)\t(3,0)\n",
            "(1,2)\t(1,2)\t(0,16)\t(8,11)\t(7,16)\t(None,None)\t(16,10)\t(12,6)\t(14,11)\t(7,1)\t(9,0)\t(14,6)\t(1,15)\t(5,0)\t(0,1)\t(10,1)\t(6,12)\t(10,16)\t(8,6)\t(12,11)\t(2,8)\t(3,0)\t(6,5)\t(2,9)\t(16,7)\n",
            "(1,15)\t(1,15)\t(8,6)\t(0,1)\t(None,None)\t(7,1)\t(12,11)\t(16,7)\t(14,6)\t(7,16)\t(14,11)\t(9,0)\t(5,0)\t(1,2)\t(10,16)\t(0,16)\t(6,5)\t(8,11)\t(10,1)\t(2,9)\t(12,6)\t(6,12)\t(3,0)\t(16,10)\t(2,8)\n",
            "(2,8)\t(2,8)\t(6,12)\t(14,6)\t(16,10)\t(12,11)\t(5,0)\t(None,None)\t(8,6)\t(2,9)\t(0,16)\t(10,1)\t(12,6)\t(16,7)\t(9,0)\t(3,0)\t(8,11)\t(14,11)\t(6,5)\t(1,2)\t(7,16)\t(10,16)\t(0,1)\t(1,15)\t(7,1)\n",
            "(2,9)\t(2,9)\t(14,11)\t(6,5)\t(12,6)\t(16,7)\t(None,None)\t(5,0)\t(8,11)\t(2,8)\t(10,16)\t(0,1)\t(16,10)\t(12,11)\t(3,0)\t(9,0)\t(8,6)\t(6,12)\t(14,6)\t(7,1)\t(1,15)\t(0,16)\t(10,1)\t(7,16)\t(1,2)\n",
            "(3,0)\t(3,0)\t(16,10)\t(16,7)\t(14,11)\t(14,6)\t(8,6)\t(8,11)\t(None,None)\t(9,0)\t(7,16)\t(7,1)\t(6,12)\t(6,5)\t(2,8)\t(2,9)\t(5,0)\t(12,6)\t(12,11)\t(10,1)\t(10,16)\t(1,15)\t(1,2)\t(0,16)\t(0,1)\n",
            "(5,0)\t(5,0)\t(10,1)\t(10,16)\t(7,1)\t(7,16)\t(2,9)\t(2,8)\t(9,0)\t(None,None)\t(14,6)\t(14,11)\t(1,2)\t(1,15)\t(8,11)\t(8,6)\t(3,0)\t(0,1)\t(0,16)\t(16,10)\t(16,7)\t(6,5)\t(6,12)\t(12,11)\t(12,6)\n",
            "(6,5)\t(6,5)\t(2,9)\t(12,6)\t(9,0)\t(14,11)\t(0,16)\t(10,16)\t(7,16)\t(14,6)\t(7,1)\t(None,None)\t(3,0)\t(6,12)\t(16,7)\t(12,11)\t(1,15)\t(2,8)\t(16,10)\t(8,6)\t(0,1)\t(1,2)\t(5,0)\t(10,1)\t(8,11)\n",
            "(6,12)\t(6,12)\t(12,11)\t(2,8)\t(14,6)\t(9,0)\t(10,1)\t(0,1)\t(7,1)\t(14,11)\t(None,None)\t(7,16)\t(6,5)\t(3,0)\t(12,6)\t(16,10)\t(1,2)\t(16,7)\t(2,9)\t(0,16)\t(8,11)\t(5,0)\t(1,15)\t(8,6)\t(10,16)\n",
            "(7,1)\t(7,1)\t(10,16)\t(8,6)\t(1,15)\t(5,0)\t(12,6)\t(16,10)\t(6,12)\t(1,2)\t(3,0)\t(6,5)\t(7,16)\t(None,None)\t(10,1)\t(0,1)\t(14,11)\t(0,16)\t(8,11)\t(16,7)\t(2,9)\t(9,0)\t(14,6)\t(2,8)\t(12,11)\n",
            "(7,16)\t(7,16)\t(8,11)\t(10,1)\t(5,0)\t(1,2)\t(16,7)\t(12,11)\t(6,5)\t(1,15)\t(6,12)\t(3,0)\t(None,None)\t(7,1)\t(0,16)\t(10,16)\t(14,6)\t(8,6)\t(0,1)\t(2,8)\t(16,10)\t(14,11)\t(9,0)\t(12,6)\t(2,9)\n",
            "(8,6)\t(8,6)\t(7,1)\t(1,15)\t(0,1)\t(10,16)\t(9,0)\t(3,0)\t(2,8)\t(8,11)\t(16,7)\t(12,6)\t(10,1)\t(0,16)\t(5,0)\t(None,None)\t(2,9)\t(1,2)\t(7,16)\t(14,11)\t(6,5)\t(12,11)\t(16,10)\t(14,6)\t(6,12)\n",
            "(8,11)\t(8,11)\t(1,2)\t(7,16)\t(10,1)\t(0,16)\t(3,0)\t(9,0)\t(2,9)\t(8,6)\t(12,11)\t(16,10)\t(0,1)\t(10,16)\t(None,None)\t(5,0)\t(2,8)\t(7,1)\t(1,15)\t(6,12)\t(14,6)\t(16,7)\t(12,6)\t(6,5)\t(14,11)\n",
            "(9,0)\t(9,0)\t(12,6)\t(12,11)\t(6,12)\t(6,5)\t(8,11)\t(8,6)\t(5,0)\t(3,0)\t(1,15)\t(1,2)\t(14,11)\t(14,6)\t(2,9)\t(2,8)\t(None,None)\t(16,10)\t(16,7)\t(0,1)\t(0,16)\t(7,16)\t(7,1)\t(10,16)\t(10,1)\n",
            "(10,1)\t(10,1)\t(7,16)\t(5,0)\t(10,16)\t(8,11)\t(14,11)\t(6,12)\t(12,6)\t(0,1)\t(2,8)\t(16,7)\t(0,16)\t(8,6)\t(1,2)\t(7,1)\t(16,10)\t(1,15)\t(None,None)\t(14,6)\t(3,0)\t(2,9)\t(12,11)\t(9,0)\t(6,5)\n",
            "(10,16)\t(10,16)\t(5,0)\t(7,1)\t(8,6)\t(10,1)\t(6,5)\t(14,6)\t(12,11)\t(0,16)\t(16,10)\t(2,9)\t(8,11)\t(0,1)\t(7,16)\t(1,15)\t(16,7)\t(None,None)\t(1,2)\t(3,0)\t(14,11)\t(12,6)\t(2,8)\t(6,12)\t(9,0)\n",
            "(12,6)\t(12,6)\t(6,5)\t(9,0)\t(12,11)\t(2,9)\t(1,2)\t(7,1)\t(10,1)\t(16,10)\t(8,6)\t(0,16)\t(16,7)\t(2,8)\t(14,11)\t(6,12)\t(0,1)\t(14,6)\t(3,0)\t(1,15)\t(None,None)\t(8,11)\t(10,16)\t(5,0)\t(7,16)\n",
            "(12,11)\t(12,11)\t(9,0)\t(6,12)\t(2,8)\t(12,6)\t(7,16)\t(1,15)\t(10,16)\t(16,7)\t(0,1)\t(8,11)\t(2,9)\t(16,10)\t(6,5)\t(14,6)\t(0,16)\t(3,0)\t(14,11)\t(None,None)\t(1,2)\t(10,1)\t(8,6)\t(7,1)\t(5,0)\n",
            "(14,6)\t(14,6)\t(2,8)\t(16,10)\t(3,0)\t(6,12)\t(10,16)\t(0,16)\t(1,15)\t(6,5)\t(1,2)\t(5,0)\t(9,0)\t(14,11)\t(12,11)\t(16,7)\t(7,16)\t(2,9)\t(12,6)\t(8,11)\t(10,1)\t(7,1)\t(None,None)\t(0,1)\t(8,6)\n",
            "(14,11)\t(14,11)\t(16,7)\t(2,9)\t(6,5)\t(3,0)\t(0,1)\t(10,1)\t(1,2)\t(6,12)\t(5,0)\t(1,15)\t(14,6)\t(9,0)\t(16,10)\t(12,6)\t(7,1)\t(12,11)\t(2,8)\t(10,16)\t(8,6)\t(None,None)\t(7,16)\t(8,11)\t(0,16)\n",
            "(16,7)\t(16,7)\t(3,0)\t(14,11)\t(2,9)\t(16,10)\t(1,15)\t(7,16)\t(0,16)\t(12,11)\t(10,1)\t(8,6)\t(2,8)\t(12,6)\t(14,6)\t(6,5)\t(10,16)\t(9,0)\t(6,12)\t(5,0)\t(7,1)\t(0,1)\t(8,11)\t(1,2)\t(None,None)\n",
            "(16,10)\t(16,10)\t(14,6)\t(3,0)\t(16,7)\t(2,8)\t(7,1)\t(1,2)\t(0,1)\t(12,6)\t(8,11)\t(10,16)\t(12,11)\t(2,9)\t(6,12)\t(14,11)\t(10,1)\t(6,5)\t(9,0)\t(7,16)\t(5,0)\t(8,6)\t(0,16)\t(None,None)\t(1,15)\n"
          ]
        }
      ]
    },
    {
      "cell_type": "markdown",
      "source": [
        "#### ECDH\n"
      ],
      "metadata": {
        "id": "FdlsAgosGA97"
      }
    },
    {
      "cell_type": "markdown",
      "source": [
        "| **Private Parameter Setup** |  |\n",
        "|-----------------------------|--|\n",
        "| Choose a large prime $ p $ and a prime-order elliptic curve $ E $ over $ \\mathbb{F}_p $. Select a base point $ P $ on $ E(\\mathbb{F}_p) $. |  |\n",
        "\n",
        "| **Private Computation** | **Private Computation** |\n",
        "|-------------------------|-------------------------|\n",
        "| **Rick**                | **Morty**               |\n",
        "| Choose a private integer $ n_R $ | Choose a private integer $ n_M $ |\n",
        "| Calculate the point $ Q_R = n_R P $ | Calculate the point $ Q_M = n_M P $ |\n",
        "\n",
        "| **Public Exchange of Values** |  |\n",
        "|-------------------------------|--|\n",
        "| Rick sends $ Q_R \\longrightarrow $ Morty |  |\n",
        "| Morty sends $ Q_M \\longrightarrow $ Rick |  |\n",
        "\n",
        "| **Private Computation** | **Private Computation** |\n",
        "|-------------------------|-------------------------|\n",
        "| **Rick**                | **Morty**               |\n",
        "| Compute point $ n_R Q_M $ | Compute point $ n_M Q_R $ |\n",
        "\n",
        "| **Shared Key = $ n_R n_M P $** |  |\n"
      ],
      "metadata": {
        "id": "c-FVwQN3ETOh"
      }
    },
    {
      "cell_type": "code",
      "source": [
        "class EllipticCurveDiffieHellman:\n",
        "  def __init__(self, curve, P):\n",
        "    self.curve = curve\n",
        "    self.P = P\n",
        "\n",
        "  def key_generation(self, nA):\n",
        "    return self.curve.point_multiply(nA, self.P)\n",
        "\n",
        "  def key_exchange(self, nA, nB,QA ,QB):\n",
        "    KA = self.curve.point_multiply(nA, QB)\n",
        "    KB = self.curve.point_multiply(nB, QA)\n",
        "    return KA, KB"
      ],
      "metadata": {
        "id": "Fdz0cmtAGCvd"
      },
      "execution_count": null,
      "outputs": []
    },
    {
      "cell_type": "code",
      "source": [
        "p = 3851\n",
        "a = 324\n",
        "b = 1287\n",
        "curve = EllipticCurve(p, a, b)\n",
        "\n",
        "P = (920, 303)              # Public point\n",
        "DH = EllipticCurveDiffieHellman(curve, P)\n",
        "\n",
        "nA = 1194                   # Morty's Private key\n",
        "nB = 1759                   # Rick's Private Key\n",
        "QA = DH.key_generation(nA)  # Morty's Public Key\n",
        "QB = DH.key_generation(nB)  # Rick's Public Key\n",
        "\n",
        "KA, KB = DH.key_exchange(nA, nB, QA, QB)\n",
        "\n",
        "print(\"Morty's Public Key:\", QA)\n",
        "print(\"Rick's Public Key:\", QB)\n",
        "print(\"Morty's Shared Key:\", KA)\n",
        "print(\"Rick's Shared Key:\", KB)\n",
        "\n",
        "# Verify that the shared keys are equal\n",
        "assert KA == KB, \"Shared keys do not match!\""
      ],
      "metadata": {
        "colab": {
          "base_uri": "https://localhost:8080/"
        },
        "id": "jXUlXb9UGPUw",
        "outputId": "c1036931-bf7e-45bb-fca0-72d5f869429a"
      },
      "execution_count": null,
      "outputs": [
        {
          "output_type": "stream",
          "name": "stdout",
          "text": [
            "Morty's Public Key: (2067, 2178)\n",
            "Rick's Public Key: (3684, 3125)\n",
            "Morty's Shared Key: (3347, 1242)\n",
            "Rick's Shared Key: (3347, 1242)\n"
          ]
        }
      ]
    },
    {
      "cell_type": "markdown",
      "source": [
        "#### ECEG\n"
      ],
      "metadata": {
        "id": "3PM8ZK1sKG2K"
      }
    },
    {
      "cell_type": "markdown",
      "source": [
        "**Summary of EEG:**\n",
        "\n",
        "| **Private Parameter Setup** |  |\n",
        "|-----------------------------|--|\n",
        "| Choose a large prime $ p $ and a prime-order elliptic curve $ E $ over $ \\mathbb{F}_p $. Select a base point $ P $ on $ E(\\mathbb{F}_p) $. |  |\n",
        "\n",
        "| **Private Computation**     | **Private Computation**     |\n",
        "|-----------------------------|-----------------------------|\n",
        "| **Rick**                    | **Morty**                   |\n",
        "\n",
        "| **Key Creation**            |                             |\n",
        "|-----------------------------|-----------------------------|\n",
        "| Choose a private integer $ n_R $ |                         |\n",
        "| Compute $ Q_R = n_R P_R $ in $ E(\\mathbb{F}_p) $ |        |\n",
        "| Publish $ Q_R $            |                             |\n",
        "\n",
        "| **Encryption**              |                             |\n",
        "|-----------------------------|-----------------------------|\n",
        "|                             | Choose Plaintext $ M \\in E( \\mathbb{F}_p) $. |\n",
        "|                             | Choose Private key $ k_M $  |\n",
        "|                             | Use $ Q_R $ to              |\n",
        "|                             | Compute $ C_1 = k_M P \\in E( \\mathbb{F}_p) $ |\n",
        "|                             | and $ C_2 = M + k_M Q_R $   |\n",
        "|                             | Send Ciphertext $(C_1, C_2)$ to Rick |\n",
        "\n",
        "| **Decryption**              |                             |\n",
        "|-----------------------------|-----------------------------|\n",
        "| Compute $ C_2 - n_R C_1 \\in E(\\mathbb{F}_p) $ . |          |\n",
        "| Morty gets $ M $ .         |                             |\n"
      ],
      "metadata": {
        "id": "4jf7JaOwGSRL"
      }
    },
    {
      "cell_type": "code",
      "source": [
        "class EllipticCurveElGamal:\n",
        "    def __init__(self, curve, P):\n",
        "        self.curve = curve\n",
        "        self.P = P  # base point\n",
        "\n",
        "    def key_generation(self, nA):\n",
        "        QA = self.curve.point_multiply(nA, self.P)\n",
        "        return QA  # public key\n",
        "\n",
        "    def encryption(self, QA, M, k):\n",
        "        C1 = self.curve.point_multiply(k, self.P)\n",
        "        C2 = self.curve.point_addition(M, self.curve.point_multiply(k, QA))\n",
        "        return C1, C2\n",
        "\n",
        "    def decryption(self, nA, C1, C2):\n",
        "        S = self.curve.point_multiply(nA, C1)\n",
        "        M = self.curve.point_addition(C2, (S[0], -S[1]))  # C2 - nA*C1\n",
        "        return M"
      ],
      "metadata": {
        "id": "6GNZ9R0s-f4E"
      },
      "execution_count": null,
      "outputs": []
    },
    {
      "cell_type": "code",
      "source": [
        "p = 179\n",
        "a = -15\n",
        "b = 18\n",
        "P = (124, 143)\n",
        "\n",
        "curve = EllipticCurve(p, a, b)\n",
        "elgamal = EllipticCurveElGamal(curve, P)\n",
        "\n",
        "nA = 137                           # Morty's private key\n",
        "QA = elgamal.key_generation(nA)\n",
        "\n",
        "M = (87, 76)                       # Message\n",
        "\n",
        "nB = 151                           # Rick's Private Key\n",
        "\n",
        "C1, C2 = elgamal.encryption(QA, M, nB)\n",
        "\n",
        "decrypted_message = elgamal.decryption(nA, C1, C2)\n",
        "\n",
        "print(f\"Morty's Public Key: {QA}\")\n",
        "print(f\"Original Message: {M}\")\n",
        "print(f\"Ciphertext: (C1: {C1}, C2: {C2})\")\n",
        "print(f\"Decrypted Message: {decrypted_message}\")"
      ],
      "metadata": {
        "colab": {
          "base_uri": "https://localhost:8080/"
        },
        "id": "0UoMY5CpKMa5",
        "outputId": "c5a08ca2-f3e2-4cea-cccd-138b408505cc"
      },
      "execution_count": null,
      "outputs": [
        {
          "output_type": "stream",
          "name": "stdout",
          "text": [
            "Morty's Public Key: (50, 159)\n",
            "Original Message: (87, 76)\n",
            "Ciphertext: (C1: (91, 31), C2: (123, 103))\n",
            "Decrypted Message: (87, 76)\n"
          ]
        }
      ]
    },
    {
      "cell_type": "markdown",
      "source": [
        "#### ECMV"
      ],
      "metadata": {
        "id": "6vmuwDTXUAnX"
      }
    },
    {
      "cell_type": "markdown",
      "source": [
        "**Summary of Menezes-Vanstone:**\n",
        "\n",
        "| **Private Parameter Setup**                               |  |\n",
        "|----------------------------------------------------------|--|\n",
        "| Choose a large prime $ p $ and a prime-order elliptic curve $ E $ over $ \\mathbb{F}_p $. Select a base point $ P $ on $ E(\\mathbb{F}_p) $. |  |\n",
        "\n",
        "| **Private Computation**                                   | **Private Computation**                                   |\n",
        "|----------------------------------------------------------|----------------------------------------------------------|\n",
        "| **Rick**                                                  | **Morty**                                                |\n",
        "\n",
        "| **Key Generation**                                        |                                                          |\n",
        "|----------------------------------------------------------|----------------------------------------------------------|\n",
        "| Choose a private integer $ n_R $                         |                                                          |\n",
        "| Compute $ Q_R = n_R P $ in $ E(\\mathbb{F}_p) $          |                                                          |\n",
        "\n",
        "| **Encryption**                                           |                                                          |\n",
        "|----------------------------------------------------------|----------------------------------------------------------|\n",
        "|                                                          | Choose Plaintext $ m \\in E(\\mathbb{F}_p) $.              |\n",
        "|                                                          | Choose Private key $ k_M $.                              |\n",
        "|                                                          | Compute $ R = k_M P $ in $ E(\\mathbb{F}_p) $.           |\n",
        "|                                                          | Compute $ S = k_M Q_R $ in $ E(\\mathbb{F}_p) $.         |\n",
        "|                                                          | Let $ (x_S, y_S) = S $.                                  |\n",
        "|                                                          | Compute $ c_1 = (x_S \\cdot m_1) \\mod p $.               |\n",
        "|                                                          | Compute $ c_2 = (y_S \\cdot m_2) \\mod p $.               |\n",
        "|                                                          | Send Ciphertext $(R, c_1, c_2)$ to Rick.                 |\n",
        "\n",
        "| **Decryption**                                           |                                                          |\n",
        "|----------------------------------------------------------|----------------------------------------------------------|\n",
        "| Compute $ T = n_R R $ in $ E(\\mathbb{F}_p) $.           |                                                          |\n",
        "| Let $ (x_T, y_T) = T $.                                 |                                                          |\n",
        "| Compute $ m_1 = (x_T^{-1} \\cdot c_1) \\mod p $.         |                                                          |\n",
        "| Compute $ m_2 = (y_T^{-1} \\cdot c_2) \\mod p $.         |                                                          |\n",
        "| Morty gets $ m = (m_1, m_2) $.                          |                                                          |\n"
      ],
      "metadata": {
        "id": "SxsCvVCzGjMI"
      }
    },
    {
      "cell_type": "code",
      "source": [
        "class EllipticCurveMenezesVanstone:\n",
        "    def __init__(self, curve, P):\n",
        "        self.curve = curve\n",
        "        self.P = P\n",
        "\n",
        "    def key_generation(self, nA):\n",
        "        QA = self.curve.point_multiply(nA, self.P)\n",
        "        return QA\n",
        "\n",
        "    def encryption(self, QA, m, k):\n",
        "        R = self.curve.point_multiply(k, self.P)\n",
        "        S = self.curve.point_multiply(k, QA)\n",
        "        xS, yS = S\n",
        "        c1 = (xS * m[0]) % self.curve.p\n",
        "        c2 = (yS * m[1]) % self.curve.p\n",
        "        return R, c1, c2\n",
        "\n",
        "    def decryption(self, nA, R, c1, c2):\n",
        "        T = self.curve.point_multiply(nA, R)\n",
        "        xT, yT = T\n",
        "        m1 = (pow(xT, -1, self.curve.p) * c1) % self.curve.p\n",
        "        m2 = (pow(yT, -1, self.curve.p) * c2) % self.curve.p\n",
        "        m = (m1, m2)\n",
        "        return m"
      ],
      "metadata": {
        "id": "Efdx3wiQUCiZ"
      },
      "execution_count": null,
      "outputs": []
    },
    {
      "cell_type": "code",
      "source": [
        "p = 3851\n",
        "a = 324\n",
        "b = 1287\n",
        "P = (920, 303)\n",
        "\n",
        "curve = EllipticCurve(p, a, b)\n",
        "ECMV = EllipticCurveMenezesVanstone(curve, P)\n",
        "\n",
        "nA = 1194                           # Morty's private key\n",
        "QA = ECMV.key_generation(nA)\n",
        "\n",
        "M = (2011, 2550)                    # Message\n",
        "\n",
        "nB = 1759                           # Rick's Private Key\n",
        "\n",
        "R, C1, C2 = ECMV.encryption(QA, M, nB)\n",
        "\n",
        "decrypted_message = ECMV.decryption(nA, R, C1, C2)\n",
        "\n",
        "print(f\"Morty's Public Key: {QA}\")\n",
        "print(f\"Original Message: {M}\")\n",
        "print(f\"Ciphertext: (C1: {C1}, C2: {C2})\")\n",
        "print(f\"Decrypted Message: {decrypted_message}\")"
      ],
      "metadata": {
        "colab": {
          "base_uri": "https://localhost:8080/"
        },
        "id": "sivSEogsVAh6",
        "outputId": "8b97024d-a0af-4688-c95c-3a7d8660690e"
      },
      "execution_count": null,
      "outputs": [
        {
          "output_type": "stream",
          "name": "stdout",
          "text": [
            "Morty's Public Key: (2067, 2178)\n",
            "Original Message: (2011, 2550)\n",
            "Ciphertext: (C1: 3120, C2: 1578)\n",
            "Decrypted Message: (2011, 2550)\n"
          ]
        }
      ]
    }
  ]
}