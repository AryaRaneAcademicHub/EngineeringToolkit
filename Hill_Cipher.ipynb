{
  "nbformat": 4,
  "nbformat_minor": 0,
  "metadata": {
    "colab": {
      "provenance": []
    },
    "kernelspec": {
      "name": "python3",
      "display_name": "Python 3"
    },
    "language_info": {
      "name": "python"
    }
  },
  "cells": [
    {
      "cell_type": "markdown",
      "source": [
        "# **New Section**\n",
        "The Hill cipher is a polygraphic substitution cipher based on linear algebra.\n",
        "\n",
        "To encrypt a message, each block of n letters (considered as an n-component vector) is multiplied by an invertible n × n matrix, against modulus 26. To decrypt the message, each block is multiplied by the inverse of the matrix used for encryption.\n",
        "\n",
        "The matrix used for encryption is the cipher key it is generated randomly as per user and is invertible n × n matrice (modulo 26/127).\n",
        "\n",
        "The text to be encrypted is first converted into n/n × n component vector using ASCII codes.\n",
        "\n",
        "It is then multiplied with the key and converted back to text resulting a ciphered form of our required plain text.\n",
        "\n",
        "The Key Matrix is then inverted in modulo 127 which serves as a secrect code used to decrypt our cipher text."
      ],
      "metadata": {
        "id": "HBMt6sudHCWA"
      }
    },
    {
      "cell_type": "markdown",
      "source": [],
      "metadata": {
        "id": "S56GglFgHBkd"
      }
    },
    {
      "cell_type": "code",
      "source": [
        "import numpy as np\n",
        "from sympy import Matrix\n",
        "\n",
        "n = int(input(\"Enter the number of Columns : \\n\"))\n",
        "plain_text = input(\"\\nEnter your text here\\n\")\n",
        "\n",
        "def generate_invertible_matrix(n):\n",
        "    while True:\n",
        "        M = np.random.randint(32, 127, size=(n, n))\n",
        "        det = int(round(Matrix(M).det()))\n",
        "        if det % 127 != 0 and np.gcd(det, 127) == 1:\n",
        "            return M\n",
        "\n",
        "key = generate_invertible_matrix(n)\n",
        "\n",
        "while len(plain_text) % n != 0:\n",
        "    plain_text += ''.join([chr(ord(' '))] * (n - len(plain_text) % n))\n",
        "plain_text_matrix = np.array([ord(c) for c in plain_text]).reshape(-1, n)\n",
        "\n",
        "cipher_text_matrix = np.dot(plain_text_matrix, key) % 127\n",
        "\n",
        "cipher_text = ''.join(chr(c) if c > 31 else chr(c + 161) for c in cipher_text_matrix.flatten())\n",
        "\n",
        "key_text = ''.join(chr(c) for c in key.flatten())\n",
        "\n",
        "print(f\" \\n Key Text:\\n{key_text}\")\n",
        "\n",
        "print(f\" \\n Cipher Text:{cipher_text}\")\n"
      ],
      "metadata": {
        "id": "y4OLGSLDJmUx"
      },
      "execution_count": null,
      "outputs": []
    },
    {
      "cell_type": "markdown",
      "source": [
        "# **New Section** This is the decrypter for the Hill Ciphers\n",
        "It first Inverts the Key in mod127\n",
        "Make the cipher text in to n component vectors and then takes its dot product with the inverted key giving us back the required Plain Text.\n"
      ],
      "metadata": {
        "id": "V-YLUfBiLDSU"
      }
    },
    {
      "cell_type": "code",
      "source": [
        "import numpy as np\n",
        "from sympy import Matrix\n",
        "\n",
        "key_text = input(\"Enter the key : \\n\")\n",
        "cipher_text = input(\"\\nEnter your text here :\\n\")\n",
        "n = int(len(key_text)**0.5)\n",
        "\n",
        "\n",
        "while len(cipher_text) % n != 0:\n",
        "    cipher_text += ''.join([chr(ord(' '))] * (n - len(cipher_text) % n))\n",
        "cipher_text_matrix = np.array([(ord(c)-161) if ord(c)>160 else ord(c) for c in cipher_text]).reshape(-1, n)\n",
        "\n",
        "key_matrix = np.array([ord(c) for c in key_text]).reshape(n, n)\n",
        "\n",
        "key = np.array(Matrix(key_matrix).inv_mod(127)) % 127\n",
        "\n",
        "plain_text_matrix = np.dot(cipher_text_matrix, key) % 127\n",
        "\n",
        "plain_text = ''.join(chr(int(c)) for c in plain_text_matrix.flatten())\n",
        "\n",
        "print(f\" \\n Plain Text:{plain_text}\")"
      ],
      "metadata": {
        "id": "QztTvnGKVKKw",
        "colab": {
          "base_uri": "https://localhost:8080/"
        },
        "outputId": "923ca4a5-8f5a-40d0-e414-56684120c9c1"
      },
      "execution_count": null,
      "outputs": [
        {
          "output_type": "stream",
          "name": "stdout",
          "text": [
            "Enter the key : \n",
            "6DkAz@Hexv6Vo{u;A^v\\e\\\"BOL{3:6S){N -AJ'Q,&@6t(x!WhG)'t3j%<\"tqB4~sidz#N~v|_]wk.,wk40[GXk{=<]]Oz`diz\\B}I3<EmfF<}*Giz[uG[ ;/Cbi}%!<BB&_g\"9U>g@|mg&,Pvp#IODDfKqLCgB]B*OD3}l9Hnj;gau)Qo=^R<0W2:0qt=g.?zQG]lMh(j)N-KirB/hW/8M}7/'D;gz\"&\n",
            "\n",
            "Enter your text here :\n",
            "»¤g<?©U©¹I\"k!mZn*u¡´R^`&4N¥´C­AcC¯@\">v-},V<§¦9¬Ltn<vKNHg³:B«®j¼Z«maT¦U&»m´7#Q¡bo´,([Uu§lHZx`w¬U-¶­\"eW?,¢«:iyFiz¦O¨Opl[$RcSS±®HP8³¹V¢-F¨V¥1bK@²4¦Jw¶VHT'»~·p´jS¨!@# ,Fo ±rn»À S¯©£.5Ssf1¶©FVJ³4G¸¨kfG²E0©¶`vRµ&Z­R?¾\"vw¶q!±¾·¡)´¾F¬fB°¶)dUE»$y.²I%:pk*k­·gC¿g[¦F\n",
            " \n",
            " Plain Text:H3ll0 I'm Sarvadntya R@ne an Al!ien from Earth 2096 of univercce C#65E of Spider verse I like to play goti ka game and like to eat mmumy ka maar which i consume   on regular bassis and hence my diet 1$ ver4 healthhb.?????>>>my bro is noob he does         \n"
          ]
        }
      ]
    }
  ]
}